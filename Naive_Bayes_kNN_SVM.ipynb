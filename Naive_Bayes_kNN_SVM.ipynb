{
  "nbformat": 4,
  "nbformat_minor": 0,
  "metadata": {
    "colab": {
      "name": "Welcome To Colaboratory",
      "provenance": [],
      "collapsed_sections": []
    },
    "kernelspec": {
      "display_name": "Python 3",
      "name": "python3"
    }
  },
  "cells": [
    {
      "cell_type": "code",
      "metadata": {
        "id": "fqZaJ2dWFRKM",
        "colab_type": "code",
        "colab": {}
      },
      "source": [
        "import numpy as np\n",
        "import matplotlib.pyplot as plt\n",
        "import pandas as pd\n",
        "from sklearn.metrics import accuracy_score\n",
        "import seaborn as sns \n",
        "import matplotlib.pyplot as plt\n",
        "import time\n",
        "from sklearn.preprocessing import StandardScaler\n",
        "from sklearn.naive_bayes import GaussianNB\n",
        "from sklearn import metrics\n",
        "from sklearn.model_selection import train_test_split\n",
        "from sklearn.preprocessing import StandardScaler\n",
        "from sklearn.decomposition import PCA\n",
        "from sklearn.neighbors import KNeighborsClassifier\n",
        "from sklearn.svm import SVC\n",
        "from sklearn.metrics import confusion_matrix"
      ],
      "execution_count": 0,
      "outputs": []
    },
    {
      "cell_type": "markdown",
      "metadata": {
        "id": "nJfJnWtMS5n5",
        "colab_type": "text"
      },
      "source": [
        "**Reading the data from the dataset**"
      ]
    },
    {
      "cell_type": "code",
      "metadata": {
        "id": "RxgjHbLWTBvD",
        "colab_type": "code",
        "colab": {
          "base_uri": "https://localhost:8080/",
          "height": 33
        },
        "outputId": "b871a683-5d59-40c3-aa4f-f8dde4f34c6b"
      },
      "source": [
        "data = pd.read_csv('wdbc.data')\n",
        "col = data.columns\n",
        "y = data.diagnosis\n",
        "l = ['Unnamed: 32','id','diagnosis']\n",
        "x = data.drop(l,axis = 1 )\n",
        "\n",
        "# x_train, x_test, y_train, y_test = train_test_split(x, y, test_size=0.1, random_state=42)\n",
        "# x_train, x_test, y_train, y_test = train_test_split(x, y, test_size=0.2, random_state=42)\n",
        "# x_train, x_test, y_train, y_test = train_test_split(x, y, test_size=0.4, random_state=42)\n",
        "# x_train, x_test, y_train, y_test = train_test_split(x, y, test_size=0.5, random_state=42)\n",
        "x_train, x_test, y_train, y_test = train_test_split(x, y, test_size=0.35, random_state=42)\n",
        "StandardScaler().fit_transform(x_train)\n",
        "StandardScaler().fit_transform(x_test)\n",
        "print(\"\")"
      ],
      "execution_count": 125,
      "outputs": [
        {
          "output_type": "stream",
          "text": [
            "\n"
          ],
          "name": "stdout"
        }
      ]
    },
    {
      "cell_type": "markdown",
      "metadata": {
        "id": "AHIduBMdUHso",
        "colab_type": "text"
      },
      "source": [
        "#**Running the Naive Bayes Classifier:**"
      ]
    },
    {
      "cell_type": "code",
      "metadata": {
        "id": "an08KuUXTI7N",
        "colab_type": "code",
        "colab": {
          "base_uri": "https://localhost:8080/",
          "height": 297
        },
        "outputId": "89c78533-5001-43d6-f1ca-2fdd482f9dab"
      },
      "source": [
        "gauss = GaussianNB()\n",
        "gauss.fit(x_train,y_train)\n",
        "y_pred = gauss.predict(x_test)\n",
        "\n",
        "print(\"Accuracy: {:.4%}\".format(metrics.accuracy_score(y_test, y_pred)))\n",
        "confusion_diag = confusion_matrix(y_test,y_pred)\n",
        "sns.heatmap(confusion_diag,annot=True,fmt=\"d\")"
      ],
      "execution_count": 126,
      "outputs": [
        {
          "output_type": "stream",
          "text": [
            "Accuracy: 95.0000%\n"
          ],
          "name": "stdout"
        },
        {
          "output_type": "execute_result",
          "data": {
            "text/plain": [
              "<matplotlib.axes._subplots.AxesSubplot at 0x7fce0a76c1d0>"
            ]
          },
          "metadata": {
            "tags": []
          },
          "execution_count": 126
        },
        {
          "output_type": "display_data",
          "data": {
            "image/png": "[encoded data removed]",
            "text/plain": [
              "<Figure size 432x288 with 2 Axes>"
            ]
          },
          "metadata": {
            "tags": [],
            "needs_background": "light"
          }
        }
      ]
    },
    {
      "cell_type": "markdown",
      "metadata": {
        "id": "ycZyjwlJVaVu",
        "colab_type": "text"
      },
      "source": [
        "#**Running k-NN**"
      ]
    },
    {
      "cell_type": "code",
      "metadata": {
        "id": "uC4x9cb4PqYb",
        "colab_type": "code",
        "colab": {}
      },
      "source": [
        "# x_train, x_test, y_train, y_test = train_test_split(x, y, test_size=0.1, random_state=42)\n",
        "# x_train, x_test, y_train, y_test = train_test_split(x, y, test_size=0.2, random_state=42)\n",
        "# x_train, x_test, y_train, y_test = train_test_split(x, y, test_size=0.4, random_state=42)\n",
        "# x_train, x_test, y_train, y_test = train_test_split(x, y, test_size=0.5, random_state=42)\n",
        "x_train, x_test, y_train, y_test = train_test_split(x, y, test_size = 0.3, random_state = 42)\n",
        "# x_train = StandardScaler().fit_transform(x_train)\n",
        "# x_test = StandardScaler().transform(x_test)"
      ],
      "execution_count": 0,
      "outputs": []
    },
    {
      "cell_type": "markdown",
      "metadata": {
        "id": "2YjJh512WLcM",
        "colab_type": "text"
      },
      "source": [
        "**Running PCA on the data - different component numbers are taken into account**"
      ]
    },
    {
      "cell_type": "code",
      "metadata": {
        "id": "RrybkihGPmqC",
        "colab_type": "code",
        "colab": {}
      },
      "source": [
        "components = 20\n",
        "pca = PCA(n_components = components)\n",
        "x_train_pca = pca.fit_transform(x_train)\n",
        "x_test_pca = pca.fit_transform(x_test)\n",
        "explained_variance=pca.explained_variance_ratio_"
      ],
      "execution_count": 0,
      "outputs": []
    },
    {
      "cell_type": "markdown",
      "metadata": {
        "id": "NesI6j8gXRZZ",
        "colab_type": "text"
      },
      "source": [
        "**Running k-NN classifier, various metrics as well and weights were tested as well.**\n",
        "\n",
        "\n",
        "**Weights tested: uniform, distance. \n",
        "Metrics tested: euclidean, manhattan, minkowski.**"
      ]
    },
    {
      "cell_type": "code",
      "metadata": {
        "id": "BoSrzegAKgGz",
        "colab_type": "code",
        "colab": {
          "base_uri": "https://localhost:8080/",
          "height": 53
        },
        "outputId": "a970578f-e02b-4863-d649-5235d99f5ba8"
      },
      "source": [
        "knn_values = []\n",
        "# weights tested: uniform, distance\n",
        "# Metrics tested: euclidean, manhattan, minkowski \n",
        "# knn = KNeighborsClassifier(metric='manhattan',n_neighbors=9,weights='distance')\n",
        "\n",
        "for i in range(1,30):     \n",
        "    classifier = KNeighborsClassifier(n_neighbors=i, metric='minkowski')\n",
        "    # trained_model=classifier.fit(x_train_pca,y_train)\n",
        "    # trained_model.fit(x_train_pca,y_train )\n",
        "    # y_pred = classifier.predict(x_test_pca)\n",
        "    trained_model=classifier.fit(x_train,y_train)\n",
        "    trained_model.fit(x_train,y_train )\n",
        "    y_pred = classifier.predict(x_test)\n",
        "    knn_values.append(accuracy_score(y_test, y_pred)*100)\n",
        "print(knn_values)\n"
      ],
      "execution_count": 129,
      "outputs": [
        {
          "output_type": "stream",
          "text": [
            "[93.56725146198829, 94.15204678362574, 94.15204678362574, 95.32163742690058, 95.90643274853801, 95.32163742690058, 96.49122807017544, 96.49122807017544, 97.07602339181285, 95.90643274853801, 97.6608187134503, 97.07602339181285, 96.49122807017544, 96.49122807017544, 96.49122807017544, 96.49122807017544, 96.49122807017544, 95.90643274853801, 95.90643274853801, 95.32163742690058, 95.32163742690058, 95.32163742690058, 95.32163742690058, 94.73684210526315, 94.73684210526315, 94.73684210526315, 94.73684210526315, 94.73684210526315, 94.73684210526315]\n"
          ],
          "name": "stdout"
        }
      ]
    },
    {
      "cell_type": "markdown",
      "metadata": {
        "id": "DetKvRnMXkDC",
        "colab_type": "text"
      },
      "source": [
        "**Plotting accuracy for every value of k taken:**"
      ]
    },
    {
      "cell_type": "code",
      "metadata": {
        "id": "oiga6AK2JJ06",
        "colab_type": "code",
        "colab": {
          "base_uri": "https://localhost:8080/",
          "height": 420
        },
        "outputId": "57036bf0-d7b1-4e16-8114-44904faf0d86"
      },
      "source": [
        "plt.figure(figsize=(12, 6))  \n",
        "plt.plot(range(1, 30),knn_values, color='blue', linestyle='dashed', marker='o', markerfacecolor='purple', markersize=12)\n",
        "plt.title('Accuracy for different  K Value')  \n",
        "plt.xlabel('K Value')  \n",
        "plt.ylabel('Accuracy') "
      ],
      "execution_count": 130,
      "outputs": [
        {
          "output_type": "execute_result",
          "data": {
            "text/plain": [
              "Text(0, 0.5, 'Accuracy')"
            ]
          },
          "metadata": {
            "tags": []
          },
          "execution_count": 130
        },
        {
          "output_type": "display_data",
          "data": {
            "image/png": "[encoded data removed]",
            "text/plain": [
              "<Figure size 864x432 with 1 Axes>"
            ]
          },
          "metadata": {
            "tags": [],
            "needs_background": "light"
          }
        }
      ]
    },
    {
      "cell_type": "markdown",
      "metadata": {
        "id": "DxSnZgFHXcxh",
        "colab_type": "text"
      },
      "source": [
        "#**Running Support Vector Machine on the dataset:**"
      ]
    },
    {
      "cell_type": "code",
      "metadata": {
        "id": "IN-FC7H9KwcT",
        "colab_type": "code",
        "colab": {}
      },
      "source": [
        "classifier = SVC(kernel = 'linear', random_state = 42)\n",
        "trained_model=classifier.fit(x_train,y_train)\n",
        "trained_model.fit(x_train,y_train )\n",
        "\n",
        "# Predicting the Test set results\n",
        "y_pred = classifier.predict(x_test)"
      ],
      "execution_count": 0,
      "outputs": []
    },
    {
      "cell_type": "code",
      "metadata": {
        "id": "ZxJYbOTqKyE-",
        "colab_type": "code",
        "colab": {
          "base_uri": "https://localhost:8080/",
          "height": 313
        },
        "outputId": "13c52d94-f5a0-43f6-b936-cbcd492a412b"
      },
      "source": [
        "# Making the Confusion Matrix\n",
        "\n",
        "from sklearn.metrics import confusion_matrix\n",
        "confusion_diag_svm = confusion_matrix(y_test, y_pred)\n",
        "sns.heatmap(confusion_diag_svm,annot=True,fmt=\"d\")\n",
        "print(\"Support vector Machine\")\n",
        "print(\"Accuracy score of training data {:.4%}: \".format(accuracy_score(y_train, trained_model.predict(x_train))))\n",
        "print(\"Accuracy score of testing data {:.4%}: \".format(accuracy_score(y_test, y_pred)))"
      ],
      "execution_count": 132,
      "outputs": [
        {
          "output_type": "stream",
          "text": [
            "Support vector Machine\n",
            "Accuracy score of training data 96.4824%: \n",
            "Accuracy score of testing data 96.4912%: \n"
          ],
          "name": "stdout"
        },
        {
          "output_type": "display_data",
          "data": {
            "image/png": "[encoded data removed]",
            "text/plain": [
              "<Figure size 432x288 with 2 Axes>"
            ]
          },
          "metadata": {
            "tags": [],
            "needs_background": "light"
          }
        }
      ]
    }
  ]
}